{
 "cells": [
  {
   "cell_type": "code",
   "execution_count": 26,
   "id": "ab29aaf0",
   "metadata": {},
   "outputs": [],
   "source": [
    "\n",
    "import pandas as pd\n",
    "import nltk\n",
    "import matplotlib.pyplot as plt\n",
    "from nltk.sentiment.vader import SentimentIntensityAnalyzer"
   ]
  },
  {
   "cell_type": "code",
   "execution_count": 27,
   "id": "5ae5eaed",
   "metadata": {},
   "outputs": [],
   "source": [
    "s = SentimentIntensityAnalyzer()\n",
    "df = pd.read_csv('review1.csv')"
   ]
  },
  {
   "cell_type": "code",
   "execution_count": 28,
   "id": "c54f4df4",
   "metadata": {},
   "outputs": [],
   "source": [
    "df['k'] = df['Review'].apply(lambda review:s.polarity_scores(review))\n",
    "\n",
    "df['j'] = df['k'].apply(lambda d:d['compound'])\n",
    "\n",
    "k = {'Very_positive':0,'Somewhat_positive':0,'Neutral':0, 'Somewhat_negative':0, 'very_negative':0}"
   ]
  },
  {
   "cell_type": "code",
   "execution_count": 29,
   "id": "a2ccaa60",
   "metadata": {},
   "outputs": [],
   "source": [
    "count_negative = 0\n",
    "count_positive = 0\n",
    "for i in df['j']:\n",
    "    N = i*100\n",
    "    if 75<=N<=100:\n",
    "        k['Very_positive']+=1\n",
    "        count_positive+=1\n",
    "    if 50 <= N <=74:\n",
    "        k['Somewhat_positive'] += 1\n",
    "        count_positive+=1\n",
    "    if 25 <= N <= 49:\n",
    "        k['Neutral'] += 1\n",
    "        count_positive+=1\n",
    "    if 1 <= N <= 24:\n",
    "        k['Somewhat_negative'] += 1\n",
    "        count_negative+=1\n",
    "    if N<=0:\n",
    "        k['very_negative'] += 1\n",
    "        count_negative+=1\n",
    "\n"
   ]
  },
  {
   "cell_type": "code",
   "execution_count": 30,
   "id": "68f852c2",
   "metadata": {},
   "outputs": [
    {
     "data": {
      "text/plain": [
       "13"
      ]
     },
     "execution_count": 30,
     "metadata": {},
     "output_type": "execute_result"
    }
   ],
   "source": [
    "count_negative"
   ]
  },
  {
   "cell_type": "code",
   "execution_count": 31,
   "id": "f4380065",
   "metadata": {},
   "outputs": [
    {
     "data": {
      "text/plain": [
       "87"
      ]
     },
     "execution_count": 31,
     "metadata": {},
     "output_type": "execute_result"
    }
   ],
   "source": [
    "count_positive"
   ]
  },
  {
   "cell_type": "code",
   "execution_count": 32,
   "id": "239c03da",
   "metadata": {},
   "outputs": [
    {
     "name": "stdout",
     "output_type": "stream",
     "text": [
      "dict_keys(['Very_positive', 'Somewhat_positive', 'Neutral', 'Somewhat_negative', 'very_negative'])\n"
     ]
    }
   ],
   "source": [
    "keys = k.keys()\n",
    "print(keys)"
   ]
  },
  {
   "cell_type": "code",
   "execution_count": 33,
   "id": "fd68ff37",
   "metadata": {},
   "outputs": [
    {
     "name": "stdout",
     "output_type": "stream",
     "text": [
      "dict_values([76, 9, 2, 3, 10])\n"
     ]
    }
   ],
   "source": [
    "values = k.values()\n",
    "print(values)"
   ]
  },
  {
   "cell_type": "code",
   "execution_count": 34,
   "id": "713500bd",
   "metadata": {},
   "outputs": [
    {
     "data": {
      "image/png": "[encoded data removed]",
      "text/plain": [
       "<Figure size 432x288 with 1 Axes>"
      ]
     },
     "metadata": {
      "needs_background": "light"
     },
     "output_type": "display_data"
    }
   ],
   "source": [
    "import matplotlib.pyplot as plt\n",
    "fig = plt.figure()\n",
    "ax = fig.add_axes([0,0,1.5,1.5])\n",
    "\n",
    "ax.bar(keys,values)\n",
    "plt.show()"
   ]
  },
  {
   "cell_type": "code",
   "execution_count": 35,
   "id": "07846bbf",
   "metadata": {},
   "outputs": [],
   "source": [
    "df = pd.read_csv('mac_review.csv')"
   ]
  },
  {
   "cell_type": "code",
   "execution_count": 36,
   "id": "57c63e70",
   "metadata": {},
   "outputs": [],
   "source": [
    "df['k'] = df['Review'].apply(lambda review:s.polarity_scores(review))\n",
    "\n",
    "df['j'] = df['k'].apply(lambda d:d['compound'])\n",
    "\n",
    "k = {'Very_positive':0,'Somewhat_positive':0,'Neutral':0, 'Somewhat_negative':0, 'very_negative':0}"
   ]
  },
  {
   "cell_type": "code",
   "execution_count": 37,
   "id": "02824709",
   "metadata": {},
   "outputs": [],
   "source": [
    "count_negative = 0\n",
    "count_positive = 0\n",
    "for i in df['j']:\n",
    "    N = i*100\n",
    "    if 75<=N<=100:\n",
    "        k['Very_positive']+=1\n",
    "        count_positive+=1\n",
    "    if 50 <= N <=74:\n",
    "        k['Somewhat_positive'] += 1\n",
    "        count_positive+=1\n",
    "    if 25 <= N <= 49:\n",
    "        k['Neutral'] += 1\n",
    "        count_positive+=1\n",
    "    if 1 <= N <= 24:\n",
    "        k['Somewhat_negative'] += 1\n",
    "        count_negative+=1\n",
    "    if N<=0:\n",
    "        k['very_negative'] += 1\n",
    "        count_negative+=1\n",
    "\n"
   ]
  },
  {
   "cell_type": "code",
   "execution_count": 38,
   "id": "3fac31ca",
   "metadata": {},
   "outputs": [
    {
     "data": {
      "text/plain": [
       "28"
      ]
     },
     "execution_count": 38,
     "metadata": {},
     "output_type": "execute_result"
    }
   ],
   "source": [
    "count_negative"
   ]
  },
  {
   "cell_type": "code",
   "execution_count": 39,
   "id": "93a8b955",
   "metadata": {},
   "outputs": [
    {
     "data": {
      "text/plain": [
       "69"
      ]
     },
     "execution_count": 39,
     "metadata": {},
     "output_type": "execute_result"
    }
   ],
   "source": [
    "count_positive"
   ]
  },
  {
   "cell_type": "code",
   "execution_count": 40,
   "id": "99791d02",
   "metadata": {},
   "outputs": [
    {
     "name": "stdout",
     "output_type": "stream",
     "text": [
      "dict_keys(['Very_positive', 'Somewhat_positive', 'Neutral', 'Somewhat_negative', 'very_negative'])\n"
     ]
    }
   ],
   "source": [
    "keys = k.keys()\n",
    "print(keys)"
   ]
  },
  {
   "cell_type": "code",
   "execution_count": 41,
   "id": "24818c26",
   "metadata": {},
   "outputs": [
    {
     "name": "stdout",
     "output_type": "stream",
     "text": [
      "dict_values([62, 5, 2, 1, 27])\n"
     ]
    }
   ],
   "source": [
    "values = k.values()\n",
    "print(values)"
   ]
  },
  {
   "cell_type": "code",
   "execution_count": 42,
   "id": "48fa93fa",
   "metadata": {},
   "outputs": [
    {
     "data": {
      "image/png": "[encoded data removed]",
      "text/plain": [
       "<Figure size 432x288 with 1 Axes>"
      ]
     },
     "metadata": {
      "needs_background": "light"
     },
     "output_type": "display_data"
    }
   ],
   "source": [
    "import matplotlib.pyplot as plt\n",
    "fig = plt.figure()\n",
    "ax = fig.add_axes([0,0,1.5,1.5])\n",
    "\n",
    "ax.bar(keys,values)\n",
    "plt.show()"
   ]
  },
  {
   "cell_type": "code",
   "execution_count": null,
   "id": "a663026c",
   "metadata": {},
   "outputs": [],
   "source": []
  }
 ],
 "metadata": {
  "kernelspec": {
   "display_name": "Python 3 (ipykernel)",
   "language": "python",
   "name": "python3"
  },
  "language_info": {
   "codemirror_mode": {
    "name": "ipython",
    "version": 3
   },
   "file_extension": ".py",
   "mimetype": "text/x-python",
   "name": "python",
   "nbconvert_exporter": "python",
   "pygments_lexer": "ipython3",
   "version": "3.9.5"
  }
 },
 "nbformat": 4,
 "nbformat_minor": 5
}
